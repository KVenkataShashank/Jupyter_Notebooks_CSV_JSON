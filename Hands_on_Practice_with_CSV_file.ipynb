{
 "cells": [
  {
   "cell_type": "code",
   "execution_count": 7,
   "id": "8642d7fb-fea5-4baf-aa2d-3adf922f4bb7",
   "metadata": {},
   "outputs": [],
   "source": [
    "import pandas as pd"
   ]
  },
  {
   "cell_type": "code",
   "execution_count": 33,
   "id": "b48f880f-2b09-43d0-8353-b8ed1a35fb52",
   "metadata": {},
   "outputs": [],
   "source": [
    "#csv path\n",
    "csv_file_path = '../Downloads/business-financial-data-june-2024-quarter-csv.csv'"
   ]
  },
  {
   "cell_type": "code",
   "execution_count": 35,
   "id": "f0a034c6-11f2-41b7-9449-86b2a3abcb13",
   "metadata": {},
   "outputs": [],
   "source": [
    "#reading csv file\n",
    "df = pd.read_csv(csv_file_path)"
   ]
  },
  {
   "cell_type": "code",
   "execution_count": 147,
   "id": "b35f8900-05b6-460d-9a09-4415bf98747e",
   "metadata": {},
   "outputs": [
    {
     "data": {
      "text/plain": [
       "Index(['Series_reference', 'Period', 'Data_value', 'Suppressed', 'STATUS',\n",
       "       'UNITS', 'Magnitude', 'Subject', 'Group', 'Series_title_1',\n",
       "       'Series_title_2', 'Series_title_3', 'Series_title_4', 'Series_title_5'],\n",
       "      dtype='object')"
      ]
     },
     "execution_count": 147,
     "metadata": {},
     "output_type": "execute_result"
    }
   ],
   "source": [
    "df.columns # columns of the dataframe"
   ]
  },
  {
   "cell_type": "code",
   "execution_count": 149,
   "id": "7c74c103-74e5-4315-a1f2-f6cd45a53039",
   "metadata": {},
   "outputs": [
    {
     "data": {
      "text/html": [
       "<div>\n",
       "<style scoped>\n",
       "    .dataframe tbody tr th:only-of-type {\n",
       "        vertical-align: middle;\n",
       "    }\n",
       "\n",
       "    .dataframe tbody tr th {\n",
       "        vertical-align: top;\n",
       "    }\n",
       "\n",
       "    .dataframe thead th {\n",
       "        text-align: right;\n",
       "    }\n",
       "</style>\n",
       "<table border=\"1\" class=\"dataframe\">\n",
       "  <thead>\n",
       "    <tr style=\"text-align: right;\">\n",
       "      <th></th>\n",
       "      <th>Series_reference</th>\n",
       "      <th>Period</th>\n",
       "      <th>Data_value</th>\n",
       "      <th>Suppressed</th>\n",
       "      <th>STATUS</th>\n",
       "      <th>UNITS</th>\n",
       "      <th>Magnitude</th>\n",
       "      <th>Subject</th>\n",
       "      <th>Group</th>\n",
       "      <th>Series_title_1</th>\n",
       "      <th>Series_title_2</th>\n",
       "      <th>Series_title_3</th>\n",
       "      <th>Series_title_4</th>\n",
       "      <th>Series_title_5</th>\n",
       "    </tr>\n",
       "  </thead>\n",
       "  <tbody>\n",
       "    <tr>\n",
       "      <th>0</th>\n",
       "      <td>BDCQ.SF1AA2CA</td>\n",
       "      <td>2016.06</td>\n",
       "      <td>1116.386</td>\n",
       "      <td>NaN</td>\n",
       "      <td>F</td>\n",
       "      <td>Dollars</td>\n",
       "      <td>6</td>\n",
       "      <td>Business Data Collection - BDC</td>\n",
       "      <td>Industry by financial variable (NZSIOC Level 2)</td>\n",
       "      <td>Sales (operating income)</td>\n",
       "      <td>Forestry and Logging</td>\n",
       "      <td>Current prices</td>\n",
       "      <td>Unadjusted</td>\n",
       "      <td>NaN</td>\n",
       "    </tr>\n",
       "    <tr>\n",
       "      <th>1</th>\n",
       "      <td>BDCQ.SF1AA2CA</td>\n",
       "      <td>2016.09</td>\n",
       "      <td>1070.874</td>\n",
       "      <td>NaN</td>\n",
       "      <td>F</td>\n",
       "      <td>Dollars</td>\n",
       "      <td>6</td>\n",
       "      <td>Business Data Collection - BDC</td>\n",
       "      <td>Industry by financial variable (NZSIOC Level 2)</td>\n",
       "      <td>Sales (operating income)</td>\n",
       "      <td>Forestry and Logging</td>\n",
       "      <td>Current prices</td>\n",
       "      <td>Unadjusted</td>\n",
       "      <td>NaN</td>\n",
       "    </tr>\n",
       "    <tr>\n",
       "      <th>2</th>\n",
       "      <td>BDCQ.SF1AA2CA</td>\n",
       "      <td>2016.12</td>\n",
       "      <td>1054.408</td>\n",
       "      <td>NaN</td>\n",
       "      <td>F</td>\n",
       "      <td>Dollars</td>\n",
       "      <td>6</td>\n",
       "      <td>Business Data Collection - BDC</td>\n",
       "      <td>Industry by financial variable (NZSIOC Level 2)</td>\n",
       "      <td>Sales (operating income)</td>\n",
       "      <td>Forestry and Logging</td>\n",
       "      <td>Current prices</td>\n",
       "      <td>Unadjusted</td>\n",
       "      <td>NaN</td>\n",
       "    </tr>\n",
       "    <tr>\n",
       "      <th>3</th>\n",
       "      <td>BDCQ.SF1AA2CA</td>\n",
       "      <td>2017.03</td>\n",
       "      <td>1010.665</td>\n",
       "      <td>NaN</td>\n",
       "      <td>F</td>\n",
       "      <td>Dollars</td>\n",
       "      <td>6</td>\n",
       "      <td>Business Data Collection - BDC</td>\n",
       "      <td>Industry by financial variable (NZSIOC Level 2)</td>\n",
       "      <td>Sales (operating income)</td>\n",
       "      <td>Forestry and Logging</td>\n",
       "      <td>Current prices</td>\n",
       "      <td>Unadjusted</td>\n",
       "      <td>NaN</td>\n",
       "    </tr>\n",
       "    <tr>\n",
       "      <th>4</th>\n",
       "      <td>BDCQ.SF1AA2CA</td>\n",
       "      <td>2017.06</td>\n",
       "      <td>1233.700</td>\n",
       "      <td>NaN</td>\n",
       "      <td>F</td>\n",
       "      <td>Dollars</td>\n",
       "      <td>6</td>\n",
       "      <td>Business Data Collection - BDC</td>\n",
       "      <td>Industry by financial variable (NZSIOC Level 2)</td>\n",
       "      <td>Sales (operating income)</td>\n",
       "      <td>Forestry and Logging</td>\n",
       "      <td>Current prices</td>\n",
       "      <td>Unadjusted</td>\n",
       "      <td>NaN</td>\n",
       "    </tr>\n",
       "  </tbody>\n",
       "</table>\n",
       "</div>"
      ],
      "text/plain": [
       "  Series_reference   Period  Data_value Suppressed STATUS    UNITS  Magnitude  \\\n",
       "0    BDCQ.SF1AA2CA  2016.06    1116.386        NaN      F  Dollars          6   \n",
       "1    BDCQ.SF1AA2CA  2016.09    1070.874        NaN      F  Dollars          6   \n",
       "2    BDCQ.SF1AA2CA  2016.12    1054.408        NaN      F  Dollars          6   \n",
       "3    BDCQ.SF1AA2CA  2017.03    1010.665        NaN      F  Dollars          6   \n",
       "4    BDCQ.SF1AA2CA  2017.06    1233.700        NaN      F  Dollars          6   \n",
       "\n",
       "                          Subject  \\\n",
       "0  Business Data Collection - BDC   \n",
       "1  Business Data Collection - BDC   \n",
       "2  Business Data Collection - BDC   \n",
       "3  Business Data Collection - BDC   \n",
       "4  Business Data Collection - BDC   \n",
       "\n",
       "                                             Group            Series_title_1  \\\n",
       "0  Industry by financial variable (NZSIOC Level 2)  Sales (operating income)   \n",
       "1  Industry by financial variable (NZSIOC Level 2)  Sales (operating income)   \n",
       "2  Industry by financial variable (NZSIOC Level 2)  Sales (operating income)   \n",
       "3  Industry by financial variable (NZSIOC Level 2)  Sales (operating income)   \n",
       "4  Industry by financial variable (NZSIOC Level 2)  Sales (operating income)   \n",
       "\n",
       "         Series_title_2  Series_title_3 Series_title_4  Series_title_5  \n",
       "0  Forestry and Logging  Current prices     Unadjusted             NaN  \n",
       "1  Forestry and Logging  Current prices     Unadjusted             NaN  \n",
       "2  Forestry and Logging  Current prices     Unadjusted             NaN  \n",
       "3  Forestry and Logging  Current prices     Unadjusted             NaN  \n",
       "4  Forestry and Logging  Current prices     Unadjusted             NaN  "
      ]
     },
     "execution_count": 149,
     "metadata": {},
     "output_type": "execute_result"
    }
   ],
   "source": [
    "df.head() # to print first 5 rows of the dataframe"
   ]
  },
  {
   "cell_type": "code",
   "execution_count": 151,
   "id": "4186358c-6ce1-40f2-945b-8625bad1dba1",
   "metadata": {},
   "outputs": [
    {
     "data": {
      "text/html": [
       "<div>\n",
       "<style scoped>\n",
       "    .dataframe tbody tr th:only-of-type {\n",
       "        vertical-align: middle;\n",
       "    }\n",
       "\n",
       "    .dataframe tbody tr th {\n",
       "        vertical-align: top;\n",
       "    }\n",
       "\n",
       "    .dataframe thead th {\n",
       "        text-align: right;\n",
       "    }\n",
       "</style>\n",
       "<table border=\"1\" class=\"dataframe\">\n",
       "  <thead>\n",
       "    <tr style=\"text-align: right;\">\n",
       "      <th></th>\n",
       "      <th>Series_reference</th>\n",
       "      <th>Period</th>\n",
       "      <th>Data_value</th>\n",
       "      <th>Suppressed</th>\n",
       "      <th>STATUS</th>\n",
       "      <th>UNITS</th>\n",
       "      <th>Magnitude</th>\n",
       "      <th>Subject</th>\n",
       "      <th>Group</th>\n",
       "      <th>Series_title_1</th>\n",
       "      <th>Series_title_2</th>\n",
       "      <th>Series_title_3</th>\n",
       "      <th>Series_title_4</th>\n",
       "      <th>Series_title_5</th>\n",
       "    </tr>\n",
       "  </thead>\n",
       "  <tbody>\n",
       "    <tr>\n",
       "      <th>7870</th>\n",
       "      <td>BDCQ.SF8RSCA</td>\n",
       "      <td>2023.06</td>\n",
       "      <td>617.507</td>\n",
       "      <td>NaN</td>\n",
       "      <td>F</td>\n",
       "      <td>Dollars</td>\n",
       "      <td>6</td>\n",
       "      <td>Business Data Collection - BDC</td>\n",
       "      <td>Industry by financial variable (NZSIOC Level 1)</td>\n",
       "      <td>Operating profit</td>\n",
       "      <td>Arts, Recreation and Other Services</td>\n",
       "      <td>Current</td>\n",
       "      <td>Unadjusted</td>\n",
       "      <td>NaN</td>\n",
       "    </tr>\n",
       "    <tr>\n",
       "      <th>7871</th>\n",
       "      <td>BDCQ.SF8RSCA</td>\n",
       "      <td>2023.09</td>\n",
       "      <td>673.068</td>\n",
       "      <td>NaN</td>\n",
       "      <td>F</td>\n",
       "      <td>Dollars</td>\n",
       "      <td>6</td>\n",
       "      <td>Business Data Collection - BDC</td>\n",
       "      <td>Industry by financial variable (NZSIOC Level 1)</td>\n",
       "      <td>Operating profit</td>\n",
       "      <td>Arts, Recreation and Other Services</td>\n",
       "      <td>Current</td>\n",
       "      <td>Unadjusted</td>\n",
       "      <td>NaN</td>\n",
       "    </tr>\n",
       "    <tr>\n",
       "      <th>7872</th>\n",
       "      <td>BDCQ.SF8RSCA</td>\n",
       "      <td>2023.12</td>\n",
       "      <td>511.098</td>\n",
       "      <td>NaN</td>\n",
       "      <td>F</td>\n",
       "      <td>Dollars</td>\n",
       "      <td>6</td>\n",
       "      <td>Business Data Collection - BDC</td>\n",
       "      <td>Industry by financial variable (NZSIOC Level 1)</td>\n",
       "      <td>Operating profit</td>\n",
       "      <td>Arts, Recreation and Other Services</td>\n",
       "      <td>Current</td>\n",
       "      <td>Unadjusted</td>\n",
       "      <td>NaN</td>\n",
       "    </tr>\n",
       "    <tr>\n",
       "      <th>7873</th>\n",
       "      <td>BDCQ.SF8RSCA</td>\n",
       "      <td>2024.03</td>\n",
       "      <td>631.229</td>\n",
       "      <td>NaN</td>\n",
       "      <td>F</td>\n",
       "      <td>Dollars</td>\n",
       "      <td>6</td>\n",
       "      <td>Business Data Collection - BDC</td>\n",
       "      <td>Industry by financial variable (NZSIOC Level 1)</td>\n",
       "      <td>Operating profit</td>\n",
       "      <td>Arts, Recreation and Other Services</td>\n",
       "      <td>Current</td>\n",
       "      <td>Unadjusted</td>\n",
       "      <td>NaN</td>\n",
       "    </tr>\n",
       "    <tr>\n",
       "      <th>7874</th>\n",
       "      <td>BDCQ.SF8RSCA</td>\n",
       "      <td>2024.06</td>\n",
       "      <td>542.409</td>\n",
       "      <td>NaN</td>\n",
       "      <td>F</td>\n",
       "      <td>Dollars</td>\n",
       "      <td>6</td>\n",
       "      <td>Business Data Collection - BDC</td>\n",
       "      <td>Industry by financial variable (NZSIOC Level 1)</td>\n",
       "      <td>Operating profit</td>\n",
       "      <td>Arts, Recreation and Other Services</td>\n",
       "      <td>Current</td>\n",
       "      <td>Unadjusted</td>\n",
       "      <td>NaN</td>\n",
       "    </tr>\n",
       "  </tbody>\n",
       "</table>\n",
       "</div>"
      ],
      "text/plain": [
       "     Series_reference   Period  Data_value Suppressed STATUS    UNITS  \\\n",
       "7870     BDCQ.SF8RSCA  2023.06     617.507        NaN      F  Dollars   \n",
       "7871     BDCQ.SF8RSCA  2023.09     673.068        NaN      F  Dollars   \n",
       "7872     BDCQ.SF8RSCA  2023.12     511.098        NaN      F  Dollars   \n",
       "7873     BDCQ.SF8RSCA  2024.03     631.229        NaN      F  Dollars   \n",
       "7874     BDCQ.SF8RSCA  2024.06     542.409        NaN      F  Dollars   \n",
       "\n",
       "      Magnitude                         Subject  \\\n",
       "7870          6  Business Data Collection - BDC   \n",
       "7871          6  Business Data Collection - BDC   \n",
       "7872          6  Business Data Collection - BDC   \n",
       "7873          6  Business Data Collection - BDC   \n",
       "7874          6  Business Data Collection - BDC   \n",
       "\n",
       "                                                Group    Series_title_1  \\\n",
       "7870  Industry by financial variable (NZSIOC Level 1)  Operating profit   \n",
       "7871  Industry by financial variable (NZSIOC Level 1)  Operating profit   \n",
       "7872  Industry by financial variable (NZSIOC Level 1)  Operating profit   \n",
       "7873  Industry by financial variable (NZSIOC Level 1)  Operating profit   \n",
       "7874  Industry by financial variable (NZSIOC Level 1)  Operating profit   \n",
       "\n",
       "                           Series_title_2 Series_title_3 Series_title_4  \\\n",
       "7870  Arts, Recreation and Other Services        Current     Unadjusted   \n",
       "7871  Arts, Recreation and Other Services        Current     Unadjusted   \n",
       "7872  Arts, Recreation and Other Services        Current     Unadjusted   \n",
       "7873  Arts, Recreation and Other Services        Current     Unadjusted   \n",
       "7874  Arts, Recreation and Other Services        Current     Unadjusted   \n",
       "\n",
       "      Series_title_5  \n",
       "7870             NaN  \n",
       "7871             NaN  \n",
       "7872             NaN  \n",
       "7873             NaN  \n",
       "7874             NaN  "
      ]
     },
     "execution_count": 151,
     "metadata": {},
     "output_type": "execute_result"
    }
   ],
   "source": [
    "df.tail() # to print last 5 rows of the dataframe"
   ]
  },
  {
   "cell_type": "code",
   "execution_count": 153,
   "id": "e0454d5b-c3bd-4f7d-804f-6b6d194bfd2a",
   "metadata": {},
   "outputs": [
    {
     "name": "stdout",
     "output_type": "stream",
     "text": [
      "<class 'pandas.core.frame.DataFrame'>\n",
      "RangeIndex: 7875 entries, 0 to 7874\n",
      "Data columns (total 14 columns):\n",
      " #   Column            Non-Null Count  Dtype  \n",
      "---  ------            --------------  -----  \n",
      " 0   Series_reference  7875 non-null   object \n",
      " 1   Period            7875 non-null   float64\n",
      " 2   Data_value        7138 non-null   float64\n",
      " 3   Suppressed        15 non-null     object \n",
      " 4   STATUS            7875 non-null   object \n",
      " 5   UNITS             7875 non-null   object \n",
      " 6   Magnitude         7875 non-null   int64  \n",
      " 7   Subject           7875 non-null   object \n",
      " 8   Group             7875 non-null   object \n",
      " 9   Series_title_1    7875 non-null   object \n",
      " 10  Series_title_2    7875 non-null   object \n",
      " 11  Series_title_3    7875 non-null   object \n",
      " 12  Series_title_4    7875 non-null   object \n",
      " 13  Series_title_5    0 non-null      float64\n",
      "dtypes: float64(3), int64(1), object(10)\n",
      "memory usage: 861.5+ KB\n"
     ]
    }
   ],
   "source": [
    "df.info() #information about the dataframe"
   ]
  },
  {
   "cell_type": "code",
   "execution_count": 155,
   "id": "af3530b0-d4cc-4a25-a885-0e17754da823",
   "metadata": {},
   "outputs": [
    {
     "data": {
      "text/plain": [
       "Series_reference       0\n",
       "Period                 0\n",
       "Data_value           737\n",
       "Suppressed          7860\n",
       "STATUS                 0\n",
       "UNITS                  0\n",
       "Magnitude              0\n",
       "Subject                0\n",
       "Group                  0\n",
       "Series_title_1         0\n",
       "Series_title_2         0\n",
       "Series_title_3         0\n",
       "Series_title_4         0\n",
       "Series_title_5      7875\n",
       "dtype: int64"
      ]
     },
     "execution_count": 155,
     "metadata": {},
     "output_type": "execute_result"
    }
   ],
   "source": [
    "df.isnull().sum() #check for missing values"
   ]
  },
  {
   "cell_type": "code",
   "execution_count": 157,
   "id": "f1b58515-b4d9-48ce-919d-54a521876615",
   "metadata": {},
   "outputs": [
    {
     "data": {
      "text/html": [
       "<div>\n",
       "<style scoped>\n",
       "    .dataframe tbody tr th:only-of-type {\n",
       "        vertical-align: middle;\n",
       "    }\n",
       "\n",
       "    .dataframe tbody tr th {\n",
       "        vertical-align: top;\n",
       "    }\n",
       "\n",
       "    .dataframe thead th {\n",
       "        text-align: right;\n",
       "    }\n",
       "</style>\n",
       "<table border=\"1\" class=\"dataframe\">\n",
       "  <thead>\n",
       "    <tr style=\"text-align: right;\">\n",
       "      <th></th>\n",
       "      <th>Period</th>\n",
       "      <th>Data_value</th>\n",
       "      <th>Magnitude</th>\n",
       "      <th>Series_title_5</th>\n",
       "    </tr>\n",
       "  </thead>\n",
       "  <tbody>\n",
       "    <tr>\n",
       "      <th>count</th>\n",
       "      <td>7875.000000</td>\n",
       "      <td>7138.000000</td>\n",
       "      <td>7875.0</td>\n",
       "      <td>0.0</td>\n",
       "    </tr>\n",
       "    <tr>\n",
       "      <th>mean</th>\n",
       "      <td>2019.973227</td>\n",
       "      <td>5011.224602</td>\n",
       "      <td>6.0</td>\n",
       "      <td>NaN</td>\n",
       "    </tr>\n",
       "    <tr>\n",
       "      <th>std</th>\n",
       "      <td>2.396220</td>\n",
       "      <td>7466.181578</td>\n",
       "      <td>0.0</td>\n",
       "      <td>NaN</td>\n",
       "    </tr>\n",
       "    <tr>\n",
       "      <th>min</th>\n",
       "      <td>2016.060000</td>\n",
       "      <td>-398.194000</td>\n",
       "      <td>6.0</td>\n",
       "      <td>NaN</td>\n",
       "    </tr>\n",
       "    <tr>\n",
       "      <th>25%</th>\n",
       "      <td>2018.060000</td>\n",
       "      <td>660.563000</td>\n",
       "      <td>6.0</td>\n",
       "      <td>NaN</td>\n",
       "    </tr>\n",
       "    <tr>\n",
       "      <th>50%</th>\n",
       "      <td>2020.060000</td>\n",
       "      <td>2137.997000</td>\n",
       "      <td>6.0</td>\n",
       "      <td>NaN</td>\n",
       "    </tr>\n",
       "    <tr>\n",
       "      <th>75%</th>\n",
       "      <td>2022.060000</td>\n",
       "      <td>4716.838000</td>\n",
       "      <td>6.0</td>\n",
       "      <td>NaN</td>\n",
       "    </tr>\n",
       "    <tr>\n",
       "      <th>max</th>\n",
       "      <td>2024.060000</td>\n",
       "      <td>41541.633000</td>\n",
       "      <td>6.0</td>\n",
       "      <td>NaN</td>\n",
       "    </tr>\n",
       "  </tbody>\n",
       "</table>\n",
       "</div>"
      ],
      "text/plain": [
       "            Period    Data_value  Magnitude  Series_title_5\n",
       "count  7875.000000   7138.000000     7875.0             0.0\n",
       "mean   2019.973227   5011.224602        6.0             NaN\n",
       "std       2.396220   7466.181578        0.0             NaN\n",
       "min    2016.060000   -398.194000        6.0             NaN\n",
       "25%    2018.060000    660.563000        6.0             NaN\n",
       "50%    2020.060000   2137.997000        6.0             NaN\n",
       "75%    2022.060000   4716.838000        6.0             NaN\n",
       "max    2024.060000  41541.633000        6.0             NaN"
      ]
     },
     "execution_count": 157,
     "metadata": {},
     "output_type": "execute_result"
    }
   ],
   "source": [
    "df.describe()  #summary statistics of numeric columns"
   ]
  },
  {
   "cell_type": "code",
   "execution_count": 159,
   "id": "36ef6d83-422a-4da1-acb6-52f824ceba11",
   "metadata": {},
   "outputs": [
    {
     "data": {
      "text/plain": [
       "0"
      ]
     },
     "execution_count": 159,
     "metadata": {},
     "output_type": "execute_result"
    }
   ],
   "source": [
    "df.duplicated().sum()  # check for duplicated values"
   ]
  },
  {
   "cell_type": "code",
   "execution_count": 161,
   "id": "27aab4d6-c10a-4391-9245-830f9038e5d9",
   "metadata": {},
   "outputs": [],
   "source": [
    "#removing \"Suppressed\" and \"Series_title_5\" columns as most of it's values are empty\n",
    "new_df_1 = df.drop('Suppressed', axis=1)\n",
    "new_df_2 = new_df_1.drop('Series_title_5', axis=1)"
   ]
  },
  {
   "cell_type": "code",
   "execution_count": 163,
   "id": "9ea0a129-0a80-442d-8b89-c95410ade212",
   "metadata": {},
   "outputs": [
    {
     "name": "stdout",
     "output_type": "stream",
     "text": [
      "<class 'pandas.core.frame.DataFrame'>\n",
      "RangeIndex: 7875 entries, 0 to 7874\n",
      "Data columns (total 12 columns):\n",
      " #   Column            Non-Null Count  Dtype  \n",
      "---  ------            --------------  -----  \n",
      " 0   Series_reference  7875 non-null   object \n",
      " 1   Period            7875 non-null   float64\n",
      " 2   Data_value        7138 non-null   float64\n",
      " 3   STATUS            7875 non-null   object \n",
      " 4   UNITS             7875 non-null   object \n",
      " 5   Magnitude         7875 non-null   int64  \n",
      " 6   Subject           7875 non-null   object \n",
      " 7   Group             7875 non-null   object \n",
      " 8   Series_title_1    7875 non-null   object \n",
      " 9   Series_title_2    7875 non-null   object \n",
      " 10  Series_title_3    7875 non-null   object \n",
      " 11  Series_title_4    7875 non-null   object \n",
      "dtypes: float64(2), int64(1), object(9)\n",
      "memory usage: 738.4+ KB\n"
     ]
    }
   ],
   "source": [
    "new_df_2.info()"
   ]
  },
  {
   "cell_type": "code",
   "execution_count": 165,
   "id": "fba46919-7fda-4a98-8f9f-fec15eb3157d",
   "metadata": {},
   "outputs": [
    {
     "data": {
      "text/plain": [
       "Index(['Series_reference', 'Period', 'Data_value', 'STATUS', 'UNITS',\n",
       "       'Magnitude', 'Subject', 'Group', 'Series_title_1', 'Series_title_2',\n",
       "       'Series_title_3', 'Series_title_4'],\n",
       "      dtype='object')"
      ]
     },
     "execution_count": 165,
     "metadata": {},
     "output_type": "execute_result"
    }
   ],
   "source": [
    "new_df_2.columns"
   ]
  },
  {
   "cell_type": "code",
   "execution_count": 167,
   "id": "bd9158e9-b6bd-45ee-8ff7-a7296d077798",
   "metadata": {},
   "outputs": [
    {
     "data": {
      "text/plain": [
       "0"
      ]
     },
     "execution_count": 167,
     "metadata": {},
     "output_type": "execute_result"
    }
   ],
   "source": [
    "new_df_2.duplicated().sum()"
   ]
  },
  {
   "cell_type": "code",
   "execution_count": 169,
   "id": "0b89c37c-6ef8-4c7a-9c63-393e8114ce07",
   "metadata": {},
   "outputs": [
    {
     "data": {
      "text/plain": [
       "Series_reference      0\n",
       "Period                0\n",
       "Data_value          737\n",
       "STATUS                0\n",
       "UNITS                 0\n",
       "Magnitude             0\n",
       "Subject               0\n",
       "Group                 0\n",
       "Series_title_1        0\n",
       "Series_title_2        0\n",
       "Series_title_3        0\n",
       "Series_title_4        0\n",
       "dtype: int64"
      ]
     },
     "execution_count": 169,
     "metadata": {},
     "output_type": "execute_result"
    }
   ],
   "source": [
    "new_df_2.isnull().sum()"
   ]
  },
  {
   "cell_type": "code",
   "execution_count": 201,
   "id": "c9b276f9-4b44-457d-a6d3-8bc13176dc14",
   "metadata": {},
   "outputs": [],
   "source": [
    "df_fill_with_mean = new_df_2\n",
    "df_fill_with_mode = new_df_2\n",
    "df_fill_with_median = new_df_2"
   ]
  },
  {
   "cell_type": "code",
   "execution_count": 203,
   "id": "48a72f95-5335-4f8d-99ff-782399072f53",
   "metadata": {},
   "outputs": [
    {
     "name": "stdout",
     "output_type": "stream",
     "text": [
      "<class 'pandas.core.frame.DataFrame'>\n",
      "RangeIndex: 7875 entries, 0 to 7874\n",
      "Data columns (total 12 columns):\n",
      " #   Column            Non-Null Count  Dtype  \n",
      "---  ------            --------------  -----  \n",
      " 0   Series_reference  7875 non-null   object \n",
      " 1   Period            7875 non-null   float64\n",
      " 2   Data_value        7875 non-null   float64\n",
      " 3   STATUS            7875 non-null   object \n",
      " 4   UNITS             7875 non-null   object \n",
      " 5   Magnitude         7875 non-null   int64  \n",
      " 6   Subject           7875 non-null   object \n",
      " 7   Group             7875 non-null   object \n",
      " 8   Series_title_1    7875 non-null   object \n",
      " 9   Series_title_2    7875 non-null   object \n",
      " 10  Series_title_3    7875 non-null   object \n",
      " 11  Series_title_4    7875 non-null   object \n",
      "dtypes: float64(2), int64(1), object(9)\n",
      "memory usage: 738.4+ KB\n"
     ]
    }
   ],
   "source": [
    "df_fill_with_mean.info()"
   ]
  },
  {
   "cell_type": "code",
   "execution_count": 205,
   "id": "08d79e87-7a97-4885-95c2-fa923e8bc578",
   "metadata": {},
   "outputs": [],
   "source": [
    "#filling the empty values with mean value\n",
    "mean_of_Data_value_column = df_fill_with_mean[\"Data_value\"].mean()\n",
    "df_fill_with_mean[\"Data_value\"] = df_fill_with_mean[\"Data_value\"].fillna(mean_of_Data_value_column)\n",
    "\n",
    "#filling the empty values with mode value\n",
    "mode_of_Data_value_column = df_fill_with_mode[\"Data_value\"].mode()[0]\n",
    "df_fill_with_mode[\"Data_value\"] = df_fill_with_mode[\"Data_value\"].fillna(mode_of_Data_value_column)\n",
    "\n",
    "#filling the empty values with median value\n",
    "median_of_Data_value_column = df_fill_with_median[\"Data_value\"].median()\n",
    "df_fill_with_median[\"Data_value\"] = df_fill_with_median[\"Data_value\"].fillna(median_of_Data_value_column)"
   ]
  },
  {
   "cell_type": "code",
   "execution_count": 250,
   "id": "a54f0cc3-9495-41a2-9531-ed5681a3b4a7",
   "metadata": {},
   "outputs": [
    {
     "name": "stdout",
     "output_type": "stream",
     "text": [
      "5011.224601989353 5011.224601989354 2513.14\n"
     ]
    }
   ],
   "source": [
    "print(mean_of_Data_value_column, mode_of_Data_value_column, median_of_Data_value_column)"
   ]
  },
  {
   "cell_type": "code",
   "execution_count": 219,
   "id": "69424137-7d3c-4dbe-bbcb-f5105089643e",
   "metadata": {},
   "outputs": [
    {
     "data": {
      "text/plain": [
       "Series_reference    0\n",
       "Period              0\n",
       "Data_value          0\n",
       "STATUS              0\n",
       "UNITS               0\n",
       "Magnitude           0\n",
       "Subject             0\n",
       "Group               0\n",
       "Series_title_1      0\n",
       "Series_title_2      0\n",
       "Series_title_3      0\n",
       "Series_title_4      0\n",
       "dtype: int64"
      ]
     },
     "execution_count": 219,
     "metadata": {},
     "output_type": "execute_result"
    }
   ],
   "source": [
    "df_fill_with_mean.isnull().sum()"
   ]
  },
  {
   "cell_type": "code",
   "execution_count": 221,
   "id": "276c8131-a3da-4993-8da8-5341f5013853",
   "metadata": {
    "scrolled": true
   },
   "outputs": [
    {
     "name": "stdout",
     "output_type": "stream",
     "text": [
      "<class 'pandas.core.frame.DataFrame'>\n",
      "RangeIndex: 7875 entries, 0 to 7874\n",
      "Data columns (total 12 columns):\n",
      " #   Column            Non-Null Count  Dtype  \n",
      "---  ------            --------------  -----  \n",
      " 0   Series_reference  7875 non-null   object \n",
      " 1   Period            7875 non-null   float64\n",
      " 2   Data_value        7875 non-null   float64\n",
      " 3   STATUS            7875 non-null   object \n",
      " 4   UNITS             7875 non-null   object \n",
      " 5   Magnitude         7875 non-null   int64  \n",
      " 6   Subject           7875 non-null   object \n",
      " 7   Group             7875 non-null   object \n",
      " 8   Series_title_1    7875 non-null   object \n",
      " 9   Series_title_2    7875 non-null   object \n",
      " 10  Series_title_3    7875 non-null   object \n",
      " 11  Series_title_4    7875 non-null   object \n",
      "dtypes: float64(2), int64(1), object(9)\n",
      "memory usage: 738.4+ KB\n"
     ]
    }
   ],
   "source": [
    "df_fill_with_mean.info()"
   ]
  },
  {
   "cell_type": "code",
   "execution_count": 225,
   "id": "aa3efad0-e28f-466f-a8fe-c9e4720bf5df",
   "metadata": {},
   "outputs": [
    {
     "data": {
      "text/html": [
       "<div>\n",
       "<style scoped>\n",
       "    .dataframe tbody tr th:only-of-type {\n",
       "        vertical-align: middle;\n",
       "    }\n",
       "\n",
       "    .dataframe tbody tr th {\n",
       "        vertical-align: top;\n",
       "    }\n",
       "\n",
       "    .dataframe thead th {\n",
       "        text-align: right;\n",
       "    }\n",
       "</style>\n",
       "<table border=\"1\" class=\"dataframe\">\n",
       "  <thead>\n",
       "    <tr style=\"text-align: right;\">\n",
       "      <th></th>\n",
       "      <th>Period</th>\n",
       "      <th>Data_value</th>\n",
       "      <th>Magnitude</th>\n",
       "    </tr>\n",
       "  </thead>\n",
       "  <tbody>\n",
       "    <tr>\n",
       "      <th>count</th>\n",
       "      <td>7875.000000</td>\n",
       "      <td>7875.000000</td>\n",
       "      <td>7875.0</td>\n",
       "    </tr>\n",
       "    <tr>\n",
       "      <th>mean</th>\n",
       "      <td>2019.973227</td>\n",
       "      <td>5011.224602</td>\n",
       "      <td>6.0</td>\n",
       "    </tr>\n",
       "    <tr>\n",
       "      <th>std</th>\n",
       "      <td>2.396220</td>\n",
       "      <td>7108.184486</td>\n",
       "      <td>0.0</td>\n",
       "    </tr>\n",
       "    <tr>\n",
       "      <th>min</th>\n",
       "      <td>2016.060000</td>\n",
       "      <td>-398.194000</td>\n",
       "      <td>6.0</td>\n",
       "    </tr>\n",
       "    <tr>\n",
       "      <th>25%</th>\n",
       "      <td>2018.060000</td>\n",
       "      <td>745.061500</td>\n",
       "      <td>6.0</td>\n",
       "    </tr>\n",
       "    <tr>\n",
       "      <th>50%</th>\n",
       "      <td>2020.060000</td>\n",
       "      <td>2513.140000</td>\n",
       "      <td>6.0</td>\n",
       "    </tr>\n",
       "    <tr>\n",
       "      <th>75%</th>\n",
       "      <td>2022.060000</td>\n",
       "      <td>5011.224602</td>\n",
       "      <td>6.0</td>\n",
       "    </tr>\n",
       "    <tr>\n",
       "      <th>max</th>\n",
       "      <td>2024.060000</td>\n",
       "      <td>41541.633000</td>\n",
       "      <td>6.0</td>\n",
       "    </tr>\n",
       "  </tbody>\n",
       "</table>\n",
       "</div>"
      ],
      "text/plain": [
       "            Period    Data_value  Magnitude\n",
       "count  7875.000000   7875.000000     7875.0\n",
       "mean   2019.973227   5011.224602        6.0\n",
       "std       2.396220   7108.184486        0.0\n",
       "min    2016.060000   -398.194000        6.0\n",
       "25%    2018.060000    745.061500        6.0\n",
       "50%    2020.060000   2513.140000        6.0\n",
       "75%    2022.060000   5011.224602        6.0\n",
       "max    2024.060000  41541.633000        6.0"
      ]
     },
     "execution_count": 225,
     "metadata": {},
     "output_type": "execute_result"
    }
   ],
   "source": [
    "df_fill_with_mean.describe()"
   ]
  },
  {
   "cell_type": "code",
   "execution_count": 227,
   "id": "82d2850d-60a1-427b-9675-f7e6c7da30be",
   "metadata": {},
   "outputs": [
    {
     "data": {
      "text/plain": [
       "Series_reference    0\n",
       "Period              0\n",
       "Data_value          0\n",
       "STATUS              0\n",
       "UNITS               0\n",
       "Magnitude           0\n",
       "Subject             0\n",
       "Group               0\n",
       "Series_title_1      0\n",
       "Series_title_2      0\n",
       "Series_title_3      0\n",
       "Series_title_4      0\n",
       "dtype: int64"
      ]
     },
     "execution_count": 227,
     "metadata": {},
     "output_type": "execute_result"
    }
   ],
   "source": [
    "df_fill_with_mode.isnull().sum()"
   ]
  },
  {
   "cell_type": "code",
   "execution_count": 230,
   "id": "2df672ca-ce33-44f9-99d5-c727e95f50cc",
   "metadata": {},
   "outputs": [
    {
     "data": {
      "text/html": [
       "<div>\n",
       "<style scoped>\n",
       "    .dataframe tbody tr th:only-of-type {\n",
       "        vertical-align: middle;\n",
       "    }\n",
       "\n",
       "    .dataframe tbody tr th {\n",
       "        vertical-align: top;\n",
       "    }\n",
       "\n",
       "    .dataframe thead th {\n",
       "        text-align: right;\n",
       "    }\n",
       "</style>\n",
       "<table border=\"1\" class=\"dataframe\">\n",
       "  <thead>\n",
       "    <tr style=\"text-align: right;\">\n",
       "      <th></th>\n",
       "      <th>Period</th>\n",
       "      <th>Data_value</th>\n",
       "      <th>Magnitude</th>\n",
       "    </tr>\n",
       "  </thead>\n",
       "  <tbody>\n",
       "    <tr>\n",
       "      <th>count</th>\n",
       "      <td>7875.000000</td>\n",
       "      <td>7875.000000</td>\n",
       "      <td>7875.0</td>\n",
       "    </tr>\n",
       "    <tr>\n",
       "      <th>mean</th>\n",
       "      <td>2019.973227</td>\n",
       "      <td>5011.224602</td>\n",
       "      <td>6.0</td>\n",
       "    </tr>\n",
       "    <tr>\n",
       "      <th>std</th>\n",
       "      <td>2.396220</td>\n",
       "      <td>7108.184486</td>\n",
       "      <td>0.0</td>\n",
       "    </tr>\n",
       "    <tr>\n",
       "      <th>min</th>\n",
       "      <td>2016.060000</td>\n",
       "      <td>-398.194000</td>\n",
       "      <td>6.0</td>\n",
       "    </tr>\n",
       "    <tr>\n",
       "      <th>25%</th>\n",
       "      <td>2018.060000</td>\n",
       "      <td>745.061500</td>\n",
       "      <td>6.0</td>\n",
       "    </tr>\n",
       "    <tr>\n",
       "      <th>50%</th>\n",
       "      <td>2020.060000</td>\n",
       "      <td>2513.140000</td>\n",
       "      <td>6.0</td>\n",
       "    </tr>\n",
       "    <tr>\n",
       "      <th>75%</th>\n",
       "      <td>2022.060000</td>\n",
       "      <td>5011.224602</td>\n",
       "      <td>6.0</td>\n",
       "    </tr>\n",
       "    <tr>\n",
       "      <th>max</th>\n",
       "      <td>2024.060000</td>\n",
       "      <td>41541.633000</td>\n",
       "      <td>6.0</td>\n",
       "    </tr>\n",
       "  </tbody>\n",
       "</table>\n",
       "</div>"
      ],
      "text/plain": [
       "            Period    Data_value  Magnitude\n",
       "count  7875.000000   7875.000000     7875.0\n",
       "mean   2019.973227   5011.224602        6.0\n",
       "std       2.396220   7108.184486        0.0\n",
       "min    2016.060000   -398.194000        6.0\n",
       "25%    2018.060000    745.061500        6.0\n",
       "50%    2020.060000   2513.140000        6.0\n",
       "75%    2022.060000   5011.224602        6.0\n",
       "max    2024.060000  41541.633000        6.0"
      ]
     },
     "execution_count": 230,
     "metadata": {},
     "output_type": "execute_result"
    }
   ],
   "source": [
    "df_fill_with_mode.describe()"
   ]
  },
  {
   "cell_type": "code",
   "execution_count": 234,
   "id": "41c94fad-0fb7-4074-8ebd-246bd4a90406",
   "metadata": {},
   "outputs": [
    {
     "name": "stdout",
     "output_type": "stream",
     "text": [
      "<class 'pandas.core.frame.DataFrame'>\n",
      "RangeIndex: 7875 entries, 0 to 7874\n",
      "Data columns (total 12 columns):\n",
      " #   Column            Non-Null Count  Dtype  \n",
      "---  ------            --------------  -----  \n",
      " 0   Series_reference  7875 non-null   object \n",
      " 1   Period            7875 non-null   float64\n",
      " 2   Data_value        7875 non-null   float64\n",
      " 3   STATUS            7875 non-null   object \n",
      " 4   UNITS             7875 non-null   object \n",
      " 5   Magnitude         7875 non-null   int64  \n",
      " 6   Subject           7875 non-null   object \n",
      " 7   Group             7875 non-null   object \n",
      " 8   Series_title_1    7875 non-null   object \n",
      " 9   Series_title_2    7875 non-null   object \n",
      " 10  Series_title_3    7875 non-null   object \n",
      " 11  Series_title_4    7875 non-null   object \n",
      "dtypes: float64(2), int64(1), object(9)\n",
      "memory usage: 738.4+ KB\n"
     ]
    }
   ],
   "source": [
    "df_fill_with_mode.info()"
   ]
  },
  {
   "cell_type": "code",
   "execution_count": 238,
   "id": "d7757c02-69df-45e1-b58a-05e117e01bbc",
   "metadata": {},
   "outputs": [
    {
     "data": {
      "text/plain": [
       "Series_reference    0\n",
       "Period              0\n",
       "Data_value          0\n",
       "STATUS              0\n",
       "UNITS               0\n",
       "Magnitude           0\n",
       "Subject             0\n",
       "Group               0\n",
       "Series_title_1      0\n",
       "Series_title_2      0\n",
       "Series_title_3      0\n",
       "Series_title_4      0\n",
       "dtype: int64"
      ]
     },
     "execution_count": 238,
     "metadata": {},
     "output_type": "execute_result"
    }
   ],
   "source": [
    "df_fill_with_median.isnull().sum()"
   ]
  },
  {
   "cell_type": "code",
   "execution_count": 240,
   "id": "089fe6fc-883a-4301-b0e6-2e1ed5521129",
   "metadata": {},
   "outputs": [
    {
     "data": {
      "text/html": [
       "<div>\n",
       "<style scoped>\n",
       "    .dataframe tbody tr th:only-of-type {\n",
       "        vertical-align: middle;\n",
       "    }\n",
       "\n",
       "    .dataframe tbody tr th {\n",
       "        vertical-align: top;\n",
       "    }\n",
       "\n",
       "    .dataframe thead th {\n",
       "        text-align: right;\n",
       "    }\n",
       "</style>\n",
       "<table border=\"1\" class=\"dataframe\">\n",
       "  <thead>\n",
       "    <tr style=\"text-align: right;\">\n",
       "      <th></th>\n",
       "      <th>Period</th>\n",
       "      <th>Data_value</th>\n",
       "      <th>Magnitude</th>\n",
       "    </tr>\n",
       "  </thead>\n",
       "  <tbody>\n",
       "    <tr>\n",
       "      <th>count</th>\n",
       "      <td>7875.000000</td>\n",
       "      <td>7875.000000</td>\n",
       "      <td>7875.0</td>\n",
       "    </tr>\n",
       "    <tr>\n",
       "      <th>mean</th>\n",
       "      <td>2019.973227</td>\n",
       "      <td>5011.224602</td>\n",
       "      <td>6.0</td>\n",
       "    </tr>\n",
       "    <tr>\n",
       "      <th>std</th>\n",
       "      <td>2.396220</td>\n",
       "      <td>7108.184486</td>\n",
       "      <td>0.0</td>\n",
       "    </tr>\n",
       "    <tr>\n",
       "      <th>min</th>\n",
       "      <td>2016.060000</td>\n",
       "      <td>-398.194000</td>\n",
       "      <td>6.0</td>\n",
       "    </tr>\n",
       "    <tr>\n",
       "      <th>25%</th>\n",
       "      <td>2018.060000</td>\n",
       "      <td>745.061500</td>\n",
       "      <td>6.0</td>\n",
       "    </tr>\n",
       "    <tr>\n",
       "      <th>50%</th>\n",
       "      <td>2020.060000</td>\n",
       "      <td>2513.140000</td>\n",
       "      <td>6.0</td>\n",
       "    </tr>\n",
       "    <tr>\n",
       "      <th>75%</th>\n",
       "      <td>2022.060000</td>\n",
       "      <td>5011.224602</td>\n",
       "      <td>6.0</td>\n",
       "    </tr>\n",
       "    <tr>\n",
       "      <th>max</th>\n",
       "      <td>2024.060000</td>\n",
       "      <td>41541.633000</td>\n",
       "      <td>6.0</td>\n",
       "    </tr>\n",
       "  </tbody>\n",
       "</table>\n",
       "</div>"
      ],
      "text/plain": [
       "            Period    Data_value  Magnitude\n",
       "count  7875.000000   7875.000000     7875.0\n",
       "mean   2019.973227   5011.224602        6.0\n",
       "std       2.396220   7108.184486        0.0\n",
       "min    2016.060000   -398.194000        6.0\n",
       "25%    2018.060000    745.061500        6.0\n",
       "50%    2020.060000   2513.140000        6.0\n",
       "75%    2022.060000   5011.224602        6.0\n",
       "max    2024.060000  41541.633000        6.0"
      ]
     },
     "execution_count": 240,
     "metadata": {},
     "output_type": "execute_result"
    }
   ],
   "source": [
    "df_fill_with_median.describe()"
   ]
  },
  {
   "cell_type": "code",
   "execution_count": 242,
   "id": "4e73959f-f97b-4c43-b1d4-cb6305e52763",
   "metadata": {},
   "outputs": [
    {
     "name": "stdout",
     "output_type": "stream",
     "text": [
      "<class 'pandas.core.frame.DataFrame'>\n",
      "RangeIndex: 7875 entries, 0 to 7874\n",
      "Data columns (total 12 columns):\n",
      " #   Column            Non-Null Count  Dtype  \n",
      "---  ------            --------------  -----  \n",
      " 0   Series_reference  7875 non-null   object \n",
      " 1   Period            7875 non-null   float64\n",
      " 2   Data_value        7875 non-null   float64\n",
      " 3   STATUS            7875 non-null   object \n",
      " 4   UNITS             7875 non-null   object \n",
      " 5   Magnitude         7875 non-null   int64  \n",
      " 6   Subject           7875 non-null   object \n",
      " 7   Group             7875 non-null   object \n",
      " 8   Series_title_1    7875 non-null   object \n",
      " 9   Series_title_2    7875 non-null   object \n",
      " 10  Series_title_3    7875 non-null   object \n",
      " 11  Series_title_4    7875 non-null   object \n",
      "dtypes: float64(2), int64(1), object(9)\n",
      "memory usage: 738.4+ KB\n"
     ]
    }
   ],
   "source": [
    "df_fill_with_median.info()"
   ]
  },
  {
   "cell_type": "code",
   "execution_count": 248,
   "id": "148d802b-6cc8-4ec9-9a84-f306047a7c5a",
   "metadata": {},
   "outputs": [
    {
     "data": {
      "text/plain": [
       "0       1116.386\n",
       "1       1070.874\n",
       "2       1054.408\n",
       "3       1010.665\n",
       "4       1233.700\n",
       "          ...   \n",
       "7870     617.507\n",
       "7871     673.068\n",
       "7872     511.098\n",
       "7873     631.229\n",
       "7874     542.409\n",
       "Name: Data_value, Length: 7875, dtype: float64"
      ]
     },
     "execution_count": 248,
     "metadata": {},
     "output_type": "execute_result"
    }
   ],
   "source": [
    "df_fill_with_mean[\"Data_value\"]"
   ]
  },
  {
   "cell_type": "code",
   "execution_count": 252,
   "id": "7a2eb378-754c-44bd-8981-699a4f12cc17",
   "metadata": {},
   "outputs": [],
   "source": [
    "new_mean_of_Data_value_column = df_fill_with_mean[\"Data_value\"].mean()\n",
    "new_mode_of_Data_value_column = df_fill_with_mode[\"Data_value\"].mode()[0]\n",
    "new_median_of_Data_value_column = df_fill_with_median[\"Data_value\"].median()"
   ]
  },
  {
   "cell_type": "code",
   "execution_count": 256,
   "id": "2066d39e-4018-4836-b9ea-f2b5ed407ec4",
   "metadata": {},
   "outputs": [
    {
     "name": "stdout",
     "output_type": "stream",
     "text": [
      "5011.224601989353 5011.224601989354 2513.14\n"
     ]
    }
   ],
   "source": [
    "print(new_mean_of_Data_value_column, new_mode_of_Data_value_column, new_median_of_Data_value_column)"
   ]
  }
 ],
 "metadata": {
  "kernelspec": {
   "display_name": "Python 3 (ipykernel)",
   "language": "python",
   "name": "python3"
  },
  "language_info": {
   "codemirror_mode": {
    "name": "ipython",
    "version": 3
   },
   "file_extension": ".py",
   "mimetype": "text/x-python",
   "name": "python",
   "nbconvert_exporter": "python",
   "pygments_lexer": "ipython3",
   "version": "3.12.4"
  }
 },
 "nbformat": 4,
 "nbformat_minor": 5
}
